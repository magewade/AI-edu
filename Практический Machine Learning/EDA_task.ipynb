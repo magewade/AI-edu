{
  "cells": [
    {
      "cell_type": "markdown",
      "metadata": {
        "id": "uo6UDQLGO6iT"
      },
      "source": [
        "# Разведочный анализ данных"
      ]
    },
    {
      "cell_type": "markdown",
      "metadata": {
        "id": "JYZYBWlme2Mt"
      },
      "source": [
        "Это задание посвящено изучению данных и построению различных визуализаций.  \n",
        "Наша цель - провести **разведочный анализ данных**, чтобы исследовать поведение данных и выявить в них закономерности.\n",
        "\n",
        "Мы будем работать с датассетом пассажиров [Титаника](https://en.wikipedia.org/wiki/Titanic).\n",
        "\n",
        "Классическая задача, решаемая на этих данных: предсказать, выжил пассажир или нет по его характеристикам.  \n",
        "То есть целевая переменная - столбец `Survived`.\n",
        "\n",
        "Цели:\n",
        "* познакомиться с библиотекой `seaborn`\n",
        "* научиться делать различные визуализации\n",
        "* заполнять пропуски в данных\n",
        "* делать однофакторный анализ\n",
        "* конструировать новые признаки\n",
        "\n",
        "Бонус:\n",
        "* придумаем свою модель на основе проведенного анализа и оценим ее качество."
      ]
    },
    {
      "cell_type": "markdown",
      "metadata": {
        "id": "V7pJVJPEdFv3"
      },
      "source": [
        "## Подключение библиотек и загрузка данных"
      ]
    },
    {
      "cell_type": "code",
      "execution_count": 2,
      "metadata": {
        "id": "zHSrDNVcO6io"
      },
      "outputs": [],
      "source": [
        "import pandas as pd\n",
        "import numpy as np\n",
        "import seaborn as sns\n",
        "\n",
        "from matplotlib import pyplot as plt"
      ]
    },
    {
      "cell_type": "markdown",
      "metadata": {
        "id": "_EtAjolyd1Iw"
      },
      "source": [
        "Фиксируем `random_state` для воспроизводимости случайных значений."
      ]
    },
    {
      "cell_type": "code",
      "execution_count": 3,
      "metadata": {
        "id": "NFm7sgC-d4Oy"
      },
      "outputs": [],
      "source": [
        "RANDOM_STATE = 42"
      ]
    },
    {
      "cell_type": "markdown",
      "metadata": {
        "id": "vnIXEza6O6iw"
      },
      "source": [
        "Загрузим данные."
      ]
    },
    {
      "cell_type": "code",
      "execution_count": 6,
      "metadata": {
        "id": "Ik1WWZP2O6iz"
      },
      "outputs": [],
      "source": [
        "Data = pd.read_csv(\n",
        "    \"data/titanic.csv\",\n",
        "    sep=\";\"\n",
        "    )"
      ]
    },
    {
      "cell_type": "markdown",
      "metadata": {
        "id": "VEbO6CtV2vO4"
      },
      "source": [
        "**Описание признаков**\n",
        "\n",
        "- `Survived` — выжил данный пассажир или нет (*0* для умерших, *1* для выживших)\n",
        "- `Pclass` — класс пассажира (*1* — высший, *2* — средний, *3* — низший)\n",
        "- `Name` — имя\n",
        "- `Sex` — пол\n",
        "- `Age` — возраст\n",
        "- `SibSp` — количество братьев, сестер, сводных братьев, сводных сестер, супругов на борту титаника\n",
        "- `Parch` — количество родителей, детей (в том числе приемных) на борту титаника\n",
        "- `Ticket` — номер билета\n",
        "- `Fare` — плата за проезд\n",
        "- `Cabin` — каюта\n",
        "- `Embarked` — порт посадки (*C* — Шербур; *Q* — Квинстаун; *S* — Саутгемптон)"
      ]
    },
    {
      "cell_type": "markdown",
      "metadata": {
        "id": "-wQycDe2dVdo"
      },
      "source": [
        "## Обзор данных"
      ]
    },
    {
      "cell_type": "markdown",
      "metadata": {
        "id": "pYRFo5yMdZlG"
      },
      "source": [
        "Посмотрим на *5* случайных объектов из датасета."
      ]
    },
    {
      "cell_type": "code",
      "execution_count": 7,
      "metadata": {
        "id": "oBBB9sEwdgyQ"
      },
      "outputs": [
        {
          "data": {
            "text/html": [
              "<div>\n",
              "<style scoped>\n",
              "    .dataframe tbody tr th:only-of-type {\n",
              "        vertical-align: middle;\n",
              "    }\n",
              "\n",
              "    .dataframe tbody tr th {\n",
              "        vertical-align: top;\n",
              "    }\n",
              "\n",
              "    .dataframe thead th {\n",
              "        text-align: right;\n",
              "    }\n",
              "</style>\n",
              "<table border=\"1\" class=\"dataframe\">\n",
              "  <thead>\n",
              "    <tr style=\"text-align: right;\">\n",
              "      <th></th>\n",
              "      <th>PassengerId</th>\n",
              "      <th>Survived</th>\n",
              "      <th>Pclass</th>\n",
              "      <th>Name</th>\n",
              "      <th>Sex</th>\n",
              "      <th>Age</th>\n",
              "      <th>SibSp</th>\n",
              "      <th>Parch</th>\n",
              "      <th>Ticket</th>\n",
              "      <th>Fare</th>\n",
              "      <th>Cabin</th>\n",
              "      <th>Embarked</th>\n",
              "    </tr>\n",
              "  </thead>\n",
              "  <tbody>\n",
              "    <tr>\n",
              "      <th>6</th>\n",
              "      <td>7</td>\n",
              "      <td>0</td>\n",
              "      <td>1</td>\n",
              "      <td>McCarthy; Mr. Timothy J</td>\n",
              "      <td>male</td>\n",
              "      <td>54.0</td>\n",
              "      <td>0</td>\n",
              "      <td>0</td>\n",
              "      <td>17463</td>\n",
              "      <td>51.8625</td>\n",
              "      <td>E46</td>\n",
              "      <td>S</td>\n",
              "    </tr>\n",
              "    <tr>\n",
              "      <th>660</th>\n",
              "      <td>661</td>\n",
              "      <td>1</td>\n",
              "      <td>1</td>\n",
              "      <td>Frauenthal; Dr. Henry William</td>\n",
              "      <td>male</td>\n",
              "      <td>50.0</td>\n",
              "      <td>2</td>\n",
              "      <td>0</td>\n",
              "      <td>PC 17611</td>\n",
              "      <td>133.6500</td>\n",
              "      <td>NaN</td>\n",
              "      <td>S</td>\n",
              "    </tr>\n",
              "    <tr>\n",
              "      <th>719</th>\n",
              "      <td>720</td>\n",
              "      <td>0</td>\n",
              "      <td>3</td>\n",
              "      <td>Johnson; Mr. Malkolm Joackim</td>\n",
              "      <td>male</td>\n",
              "      <td>33.0</td>\n",
              "      <td>0</td>\n",
              "      <td>0</td>\n",
              "      <td>347062</td>\n",
              "      <td>7.7750</td>\n",
              "      <td>NaN</td>\n",
              "      <td>S</td>\n",
              "    </tr>\n",
              "    <tr>\n",
              "      <th>159</th>\n",
              "      <td>160</td>\n",
              "      <td>0</td>\n",
              "      <td>3</td>\n",
              "      <td>Sage; Master. Thomas Henry</td>\n",
              "      <td>male</td>\n",
              "      <td>NaN</td>\n",
              "      <td>8</td>\n",
              "      <td>2</td>\n",
              "      <td>CA. 2343</td>\n",
              "      <td>69.5500</td>\n",
              "      <td>NaN</td>\n",
              "      <td>S</td>\n",
              "    </tr>\n",
              "    <tr>\n",
              "      <th>445</th>\n",
              "      <td>446</td>\n",
              "      <td>1</td>\n",
              "      <td>1</td>\n",
              "      <td>Dodge; Master. Washington</td>\n",
              "      <td>male</td>\n",
              "      <td>4.0</td>\n",
              "      <td>0</td>\n",
              "      <td>2</td>\n",
              "      <td>33638</td>\n",
              "      <td>81.8583</td>\n",
              "      <td>A34</td>\n",
              "      <td>S</td>\n",
              "    </tr>\n",
              "  </tbody>\n",
              "</table>\n",
              "</div>"
            ],
            "text/plain": [
              "     PassengerId  Survived  Pclass                           Name   Sex   Age  \\\n",
              "6              7         0       1        McCarthy; Mr. Timothy J  male  54.0   \n",
              "660          661         1       1  Frauenthal; Dr. Henry William  male  50.0   \n",
              "719          720         0       3   Johnson; Mr. Malkolm Joackim  male  33.0   \n",
              "159          160         0       3     Sage; Master. Thomas Henry  male   NaN   \n",
              "445          446         1       1      Dodge; Master. Washington  male   4.0   \n",
              "\n",
              "     SibSp  Parch    Ticket      Fare Cabin Embarked  \n",
              "6        0      0     17463   51.8625   E46        S  \n",
              "660      2      0  PC 17611  133.6500   NaN        S  \n",
              "719      0      0    347062    7.7750   NaN        S  \n",
              "159      8      2  CA. 2343   69.5500   NaN        S  \n",
              "445      0      2     33638   81.8583   A34        S  "
            ]
          },
          "execution_count": 7,
          "metadata": {},
          "output_type": "execute_result"
        }
      ],
      "source": [
        "Data.sample(5)"
      ]
    },
    {
      "cell_type": "markdown",
      "metadata": {
        "id": "XYGXcMZoO6i1"
      },
      "source": [
        "Выведите на экран размеры таблицы *Data*.\n",
        "\n",
        "**Вопрос:** сколько объектов в данных?"
      ]
    },
    {
      "cell_type": "code",
      "execution_count": 9,
      "metadata": {
        "id": "5VS5zcysO6i3"
      },
      "outputs": [
        {
          "data": {
            "text/plain": [
              "(891, 12)"
            ]
          },
          "execution_count": 9,
          "metadata": {},
          "output_type": "execute_result"
        }
      ],
      "source": [
        "# ваш код здесь\n",
        "Data.shape"
      ]
    },
    {
      "cell_type": "markdown",
      "metadata": {
        "id": "X9ql0GjNO6i5"
      },
      "source": [
        "## Обработка признаков и однофакторный анализ"
      ]
    },
    {
      "cell_type": "markdown",
      "metadata": {
        "id": "LamgVWt9gedB"
      },
      "source": [
        "На данном этапе:\n",
        "\n",
        "1) Найдем признаки, у которых есть пропущенные значения и обработаем эти пропущенные значения\n",
        "\n",
        "2) Переведём категориальные признаки в числовые"
      ]
    },
    {
      "cell_type": "markdown",
      "metadata": {
        "id": "tbkHQ7f_O6i9"
      },
      "source": [
        "Выведем на экран основные числовые характеристики числовых столбцов.  \n",
        "Это можно сделать при помощи функции `describe`."
      ]
    },
    {
      "cell_type": "code",
      "execution_count": null,
      "metadata": {
        "colab": {
          "base_uri": "https://localhost:8080/",
          "height": 300
        },
        "id": "DnasgMQDO6jB",
        "outputId": "2b5e7448-9958-4bb6-a586-449118d73192"
      },
      "outputs": [
        {
          "data": {
            "text/html": [
              "\n",
              "  <div id=\"df-1885aef5-89f8-4ef8-8949-da4e31ef54ae\">\n",
              "    <div class=\"colab-df-container\">\n",
              "      <div>\n",
              "<style scoped>\n",
              "    .dataframe tbody tr th:only-of-type {\n",
              "        vertical-align: middle;\n",
              "    }\n",
              "\n",
              "    .dataframe tbody tr th {\n",
              "        vertical-align: top;\n",
              "    }\n",
              "\n",
              "    .dataframe thead th {\n",
              "        text-align: right;\n",
              "    }\n",
              "</style>\n",
              "<table border=\"1\" class=\"dataframe\">\n",
              "  <thead>\n",
              "    <tr style=\"text-align: right;\">\n",
              "      <th></th>\n",
              "      <th>PassengerId</th>\n",
              "      <th>Survived</th>\n",
              "      <th>Pclass</th>\n",
              "      <th>Age</th>\n",
              "      <th>SibSp</th>\n",
              "      <th>Parch</th>\n",
              "      <th>Fare</th>\n",
              "    </tr>\n",
              "  </thead>\n",
              "  <tbody>\n",
              "    <tr>\n",
              "      <th>count</th>\n",
              "      <td>891.000000</td>\n",
              "      <td>891.000000</td>\n",
              "      <td>891.000000</td>\n",
              "      <td>714.000000</td>\n",
              "      <td>891.000000</td>\n",
              "      <td>891.000000</td>\n",
              "      <td>891.000000</td>\n",
              "    </tr>\n",
              "    <tr>\n",
              "      <th>mean</th>\n",
              "      <td>446.000000</td>\n",
              "      <td>0.383838</td>\n",
              "      <td>2.308642</td>\n",
              "      <td>29.699118</td>\n",
              "      <td>0.523008</td>\n",
              "      <td>0.381594</td>\n",
              "      <td>32.204208</td>\n",
              "    </tr>\n",
              "    <tr>\n",
              "      <th>std</th>\n",
              "      <td>257.353842</td>\n",
              "      <td>0.486592</td>\n",
              "      <td>0.836071</td>\n",
              "      <td>14.526497</td>\n",
              "      <td>1.102743</td>\n",
              "      <td>0.806057</td>\n",
              "      <td>49.693429</td>\n",
              "    </tr>\n",
              "    <tr>\n",
              "      <th>min</th>\n",
              "      <td>1.000000</td>\n",
              "      <td>0.000000</td>\n",
              "      <td>1.000000</td>\n",
              "      <td>0.420000</td>\n",
              "      <td>0.000000</td>\n",
              "      <td>0.000000</td>\n",
              "      <td>0.000000</td>\n",
              "    </tr>\n",
              "    <tr>\n",
              "      <th>25%</th>\n",
              "      <td>223.500000</td>\n",
              "      <td>0.000000</td>\n",
              "      <td>2.000000</td>\n",
              "      <td>20.125000</td>\n",
              "      <td>0.000000</td>\n",
              "      <td>0.000000</td>\n",
              "      <td>7.910400</td>\n",
              "    </tr>\n",
              "    <tr>\n",
              "      <th>50%</th>\n",
              "      <td>446.000000</td>\n",
              "      <td>0.000000</td>\n",
              "      <td>3.000000</td>\n",
              "      <td>28.000000</td>\n",
              "      <td>0.000000</td>\n",
              "      <td>0.000000</td>\n",
              "      <td>14.454200</td>\n",
              "    </tr>\n",
              "    <tr>\n",
              "      <th>75%</th>\n",
              "      <td>668.500000</td>\n",
              "      <td>1.000000</td>\n",
              "      <td>3.000000</td>\n",
              "      <td>38.000000</td>\n",
              "      <td>1.000000</td>\n",
              "      <td>0.000000</td>\n",
              "      <td>31.000000</td>\n",
              "    </tr>\n",
              "    <tr>\n",
              "      <th>max</th>\n",
              "      <td>891.000000</td>\n",
              "      <td>1.000000</td>\n",
              "      <td>3.000000</td>\n",
              "      <td>80.000000</td>\n",
              "      <td>8.000000</td>\n",
              "      <td>6.000000</td>\n",
              "      <td>512.329200</td>\n",
              "    </tr>\n",
              "  </tbody>\n",
              "</table>\n",
              "</div>\n",
              "      <button class=\"colab-df-convert\" onclick=\"convertToInteractive('df-1885aef5-89f8-4ef8-8949-da4e31ef54ae')\"\n",
              "              title=\"Convert this dataframe to an interactive table.\"\n",
              "              style=\"display:none;\">\n",
              "        \n",
              "  <svg xmlns=\"http://www.w3.org/2000/svg\" height=\"24px\"viewBox=\"0 0 24 24\"\n",
              "       width=\"24px\">\n",
              "    <path d=\"M0 0h24v24H0V0z\" fill=\"none\"/>\n",
              "    <path d=\"M18.56 5.44l.94 2.06.94-2.06 2.06-.94-2.06-.94-.94-2.06-.94 2.06-2.06.94zm-11 1L8.5 8.5l.94-2.06 2.06-.94-2.06-.94L8.5 2.5l-.94 2.06-2.06.94zm10 10l.94 2.06.94-2.06 2.06-.94-2.06-.94-.94-2.06-.94 2.06-2.06.94z\"/><path d=\"M17.41 7.96l-1.37-1.37c-.4-.4-.92-.59-1.43-.59-.52 0-1.04.2-1.43.59L10.3 9.45l-7.72 7.72c-.78.78-.78 2.05 0 2.83L4 21.41c.39.39.9.59 1.41.59.51 0 1.02-.2 1.41-.59l7.78-7.78 2.81-2.81c.8-.78.8-2.07 0-2.86zM5.41 20L4 18.59l7.72-7.72 1.47 1.35L5.41 20z\"/>\n",
              "  </svg>\n",
              "      </button>\n",
              "      \n",
              "  <style>\n",
              "    .colab-df-container {\n",
              "      display:flex;\n",
              "      flex-wrap:wrap;\n",
              "      gap: 12px;\n",
              "    }\n",
              "\n",
              "    .colab-df-convert {\n",
              "      background-color: #E8F0FE;\n",
              "      border: none;\n",
              "      border-radius: 50%;\n",
              "      cursor: pointer;\n",
              "      display: none;\n",
              "      fill: #1967D2;\n",
              "      height: 32px;\n",
              "      padding: 0 0 0 0;\n",
              "      width: 32px;\n",
              "    }\n",
              "\n",
              "    .colab-df-convert:hover {\n",
              "      background-color: #E2EBFA;\n",
              "      box-shadow: 0px 1px 2px rgba(60, 64, 67, 0.3), 0px 1px 3px 1px rgba(60, 64, 67, 0.15);\n",
              "      fill: #174EA6;\n",
              "    }\n",
              "\n",
              "    [theme=dark] .colab-df-convert {\n",
              "      background-color: #3B4455;\n",
              "      fill: #D2E3FC;\n",
              "    }\n",
              "\n",
              "    [theme=dark] .colab-df-convert:hover {\n",
              "      background-color: #434B5C;\n",
              "      box-shadow: 0px 1px 3px 1px rgba(0, 0, 0, 0.15);\n",
              "      filter: drop-shadow(0px 1px 2px rgba(0, 0, 0, 0.3));\n",
              "      fill: #FFFFFF;\n",
              "    }\n",
              "  </style>\n",
              "\n",
              "      <script>\n",
              "        const buttonEl =\n",
              "          document.querySelector('#df-1885aef5-89f8-4ef8-8949-da4e31ef54ae button.colab-df-convert');\n",
              "        buttonEl.style.display =\n",
              "          google.colab.kernel.accessAllowed ? 'block' : 'none';\n",
              "\n",
              "        async function convertToInteractive(key) {\n",
              "          const element = document.querySelector('#df-1885aef5-89f8-4ef8-8949-da4e31ef54ae');\n",
              "          const dataTable =\n",
              "            await google.colab.kernel.invokeFunction('convertToInteractive',\n",
              "                                                     [key], {});\n",
              "          if (!dataTable) return;\n",
              "\n",
              "          const docLinkHtml = 'Like what you see? Visit the ' +\n",
              "            '<a target=\"_blank\" href=https://colab.research.google.com/notebooks/data_table.ipynb>data table notebook</a>'\n",
              "            + ' to learn more about interactive tables.';\n",
              "          element.innerHTML = '';\n",
              "          dataTable['output_type'] = 'display_data';\n",
              "          await google.colab.output.renderOutput(dataTable, element);\n",
              "          const docLink = document.createElement('div');\n",
              "          docLink.innerHTML = docLinkHtml;\n",
              "          element.appendChild(docLink);\n",
              "        }\n",
              "      </script>\n",
              "    </div>\n",
              "  </div>\n",
              "  "
            ],
            "text/plain": [
              "       PassengerId    Survived      Pclass         Age       SibSp  \\\n",
              "count   891.000000  891.000000  891.000000  714.000000  891.000000   \n",
              "mean    446.000000    0.383838    2.308642   29.699118    0.523008   \n",
              "std     257.353842    0.486592    0.836071   14.526497    1.102743   \n",
              "min       1.000000    0.000000    1.000000    0.420000    0.000000   \n",
              "25%     223.500000    0.000000    2.000000   20.125000    0.000000   \n",
              "50%     446.000000    0.000000    3.000000   28.000000    0.000000   \n",
              "75%     668.500000    1.000000    3.000000   38.000000    1.000000   \n",
              "max     891.000000    1.000000    3.000000   80.000000    8.000000   \n",
              "\n",
              "            Parch        Fare  \n",
              "count  891.000000  891.000000  \n",
              "mean     0.381594   32.204208  \n",
              "std      0.806057   49.693429  \n",
              "min      0.000000    0.000000  \n",
              "25%      0.000000    7.910400  \n",
              "50%      0.000000   14.454200  \n",
              "75%      0.000000   31.000000  \n",
              "max      6.000000  512.329200  "
            ]
          },
          "execution_count": 5,
          "metadata": {},
          "output_type": "execute_result"
        }
      ],
      "source": [
        "Data.describe()"
      ]
    },
    {
      "cell_type": "markdown",
      "metadata": {
        "id": "akSB6czJRAvK"
      },
      "source": [
        "В строке *count* отображается количество непропущенных значений в каждом столбце."
      ]
    },
    {
      "cell_type": "markdown",
      "metadata": {
        "id": "3SbQ5ynVRJQl"
      },
      "source": [
        "Основные статистики можно посмотреть и по категориальным колонкам.  \n",
        "Для этого в функцию `describe` нужно передать аргумент `include='object'`.\n",
        "\n",
        "Сделайте это."
      ]
    },
    {
      "cell_type": "code",
      "execution_count": 12,
      "metadata": {
        "id": "jiuXVlUcO6jE"
      },
      "outputs": [
        {
          "data": {
            "text/html": [
              "<div>\n",
              "<style scoped>\n",
              "    .dataframe tbody tr th:only-of-type {\n",
              "        vertical-align: middle;\n",
              "    }\n",
              "\n",
              "    .dataframe tbody tr th {\n",
              "        vertical-align: top;\n",
              "    }\n",
              "\n",
              "    .dataframe thead th {\n",
              "        text-align: right;\n",
              "    }\n",
              "</style>\n",
              "<table border=\"1\" class=\"dataframe\">\n",
              "  <thead>\n",
              "    <tr style=\"text-align: right;\">\n",
              "      <th></th>\n",
              "      <th>Name</th>\n",
              "      <th>Sex</th>\n",
              "      <th>Ticket</th>\n",
              "      <th>Cabin</th>\n",
              "      <th>Embarked</th>\n",
              "    </tr>\n",
              "  </thead>\n",
              "  <tbody>\n",
              "    <tr>\n",
              "      <th>count</th>\n",
              "      <td>891</td>\n",
              "      <td>891</td>\n",
              "      <td>891</td>\n",
              "      <td>204</td>\n",
              "      <td>889</td>\n",
              "    </tr>\n",
              "    <tr>\n",
              "      <th>unique</th>\n",
              "      <td>891</td>\n",
              "      <td>3</td>\n",
              "      <td>681</td>\n",
              "      <td>147</td>\n",
              "      <td>3</td>\n",
              "    </tr>\n",
              "    <tr>\n",
              "      <th>top</th>\n",
              "      <td>Braund; Mr. Owen Harris</td>\n",
              "      <td>male</td>\n",
              "      <td>347082</td>\n",
              "      <td>B96 B98</td>\n",
              "      <td>S</td>\n",
              "    </tr>\n",
              "    <tr>\n",
              "      <th>freq</th>\n",
              "      <td>1</td>\n",
              "      <td>574</td>\n",
              "      <td>7</td>\n",
              "      <td>4</td>\n",
              "      <td>644</td>\n",
              "    </tr>\n",
              "  </tbody>\n",
              "</table>\n",
              "</div>"
            ],
            "text/plain": [
              "                           Name   Sex  Ticket    Cabin Embarked\n",
              "count                       891   891     891      204      889\n",
              "unique                      891     3     681      147        3\n",
              "top     Braund; Mr. Owen Harris  male  347082  B96 B98        S\n",
              "freq                          1   574       7        4      644"
            ]
          },
          "execution_count": 12,
          "metadata": {},
          "output_type": "execute_result"
        }
      ],
      "source": [
        "# ваш код здесь\n",
        "Data.describe(include='object')"
      ]
    },
    {
      "cell_type": "markdown",
      "metadata": {
        "id": "f23UBOGKO6jG"
      },
      "source": [
        "**Вопрос:** в скольких категориальных колонках есть пропуски?"
      ]
    },
    {
      "cell_type": "markdown",
      "metadata": {
        "id": "mBxQCgbKSm3q"
      },
      "source": [
        "### Столбец Sex"
      ]
    },
    {
      "cell_type": "markdown",
      "metadata": {
        "id": "IBfxbDibgbuH"
      },
      "source": [
        "В столбце пол (`Sex`) три различных значения. Посмотрим на них."
      ]
    },
    {
      "cell_type": "code",
      "execution_count": 13,
      "metadata": {
        "colab": {
          "base_uri": "https://localhost:8080/"
        },
        "id": "hcbI2DbeSrxt",
        "outputId": "9701035a-d1a7-4421-fa66-8bb1061f1a10"
      },
      "outputs": [
        {
          "data": {
            "text/plain": [
              "Sex\n",
              "male       574\n",
              "female     312\n",
              "unknown      5\n",
              "Name: count, dtype: int64"
            ]
          },
          "execution_count": 13,
          "metadata": {},
          "output_type": "execute_result"
        }
      ],
      "source": [
        "Data['Sex'].value_counts()"
      ]
    },
    {
      "cell_type": "markdown",
      "metadata": {
        "id": "aLagxnJ8O6jK"
      },
      "source": [
        "Удалим пассажиров неизвестного пола, так как их всего *5*."
      ]
    },
    {
      "cell_type": "code",
      "execution_count": 14,
      "metadata": {
        "id": "Ij_aUaOYO6jM"
      },
      "outputs": [],
      "source": [
        "Data = Data[Data['Sex'] != 'unknown']"
      ]
    },
    {
      "cell_type": "markdown",
      "metadata": {
        "id": "PFpZ8rVHTStf"
      },
      "source": [
        "Проверьте, что строки с неизвестным полом исчезли."
      ]
    },
    {
      "cell_type": "code",
      "execution_count": 15,
      "metadata": {
        "id": "WrFZCI-bTbzH"
      },
      "outputs": [
        {
          "data": {
            "text/plain": [
              "Sex\n",
              "male      574\n",
              "female    312\n",
              "Name: count, dtype: int64"
            ]
          },
          "execution_count": 15,
          "metadata": {},
          "output_type": "execute_result"
        }
      ],
      "source": [
        "# ваш код здесь\n",
        "Data['Sex'].value_counts()"
      ]
    },
    {
      "cell_type": "markdown",
      "metadata": {
        "id": "TbDyF2hsO6jR"
      },
      "source": [
        "Признак `Sex` является категориальным, то есть содержит нечисловые значения. Для работы большинства алгоритмов необходимо переводить категории в числа.\n",
        "\n",
        "Закодировать значения столбца с двумя категориями можно следующим образом. Пусть в воображаемом столбце *animal* есть два значения: *cat* и *dog*. Их можно перевести в *0* и *1* при помощи функции `map`:\n",
        "\n",
        "`Data['animal'] = Data['animal'].map({'cat' : 1, 'dog' : 0})`\n"
      ]
    },
    {
      "cell_type": "markdown",
      "metadata": {
        "id": "YBr8x_3iU5tg"
      },
      "source": [
        "По аналогии закодируйте столбец `Sex` (*male* - *1*, *female* - *0*)."
      ]
    },
    {
      "cell_type": "code",
      "execution_count": 16,
      "metadata": {
        "id": "TZYFvo3QO6jS"
      },
      "outputs": [],
      "source": [
        "# ваш код здесь\n",
        "Data['Sex'] = Data['Sex'].map({'male' : 1, 'female' : 0})"
      ]
    },
    {
      "cell_type": "markdown",
      "metadata": {
        "id": "k4367Q4AVj7u"
      },
      "source": [
        "**Вопрос** посчитайте сумму значений в закодированном столбце `Sex`."
      ]
    },
    {
      "cell_type": "code",
      "execution_count": 17,
      "metadata": {
        "id": "lAdxODHiVpZ4"
      },
      "outputs": [
        {
          "data": {
            "text/plain": [
              "574"
            ]
          },
          "execution_count": 17,
          "metadata": {},
          "output_type": "execute_result"
        }
      ],
      "source": [
        "# ваш код здесь\n",
        "sum(Data['Sex'])"
      ]
    },
    {
      "cell_type": "markdown",
      "metadata": {
        "id": "g0YUmU9PO6jU"
      },
      "source": [
        "Посмотрим, как влияет пол на выживаемость."
      ]
    },
    {
      "cell_type": "code",
      "execution_count": 18,
      "metadata": {
        "colab": {
          "base_uri": "https://localhost:8080/",
          "height": 295
        },
        "id": "4sd1xHr7O6jU",
        "outputId": "814c7928-b571-4b9f-cf28-95365fe505fc"
      },
      "outputs": [
        {
          "name": "stderr",
          "output_type": "stream",
          "text": [
            "/var/folders/sr/p3kpr51n4hs1q5w3zd7p_j0c0000gn/T/ipykernel_52939/634710222.py:1: FutureWarning: \n",
            "\n",
            "Passing `palette` without assigning `hue` is deprecated and will be removed in v0.14.0. Assign the `x` variable to `hue` and set `legend=False` for the same effect.\n",
            "\n",
            "  sns.barplot(x='Sex', y='Survived', data=Data, palette='summer')\n"
          ]
        },
        {
          "data": {
            "image/png": "[encoded data removed]",
            "text/plain": [
              "<Figure size 640x480 with 1 Axes>"
            ]
          },
          "metadata": {},
          "output_type": "display_data"
        }
      ],
      "source": [
        "sns.barplot(x='Sex', y='Survived', data=Data, palette='summer')\n",
        "plt.title('Sex - Survived')\n",
        "plt.show();"
      ]
    },
    {
      "cell_type": "markdown",
      "metadata": {
        "id": "UVT85zUgVwh0"
      },
      "source": [
        "Гистограмму можно детализировать, добавив значение параметра `hue`."
      ]
    },
    {
      "cell_type": "markdown",
      "metadata": {
        "id": "V7dwS1kvO6jr"
      },
      "source": [
        "### Столбец Pclass"
      ]
    },
    {
      "cell_type": "markdown",
      "metadata": {
        "id": "ce0vqUYYgXmH"
      },
      "source": [
        "Нарисуйте гистограмму выживаемости в зависимости от `Pclass`.  \n",
        "Используйте `barplot`."
      ]
    },
    {
      "cell_type": "code",
      "execution_count": 19,
      "metadata": {
        "id": "kWxNwTP5O6js"
      },
      "outputs": [
        {
          "name": "stderr",
          "output_type": "stream",
          "text": [
            "/var/folders/sr/p3kpr51n4hs1q5w3zd7p_j0c0000gn/T/ipykernel_52939/3048451407.py:2: FutureWarning: \n",
            "\n",
            "Passing `palette` without assigning `hue` is deprecated and will be removed in v0.14.0. Assign the `x` variable to `hue` and set `legend=False` for the same effect.\n",
            "\n",
            "  sns.barplot(x='Pclass', y='Survived', data=Data, palette='summer')\n"
          ]
        },
        {
          "data": {
            "image/png": "[encoded data removed]",
            "text/plain": [
              "<Figure size 640x480 with 1 Axes>"
            ]
          },
          "metadata": {},
          "output_type": "display_data"
        }
      ],
      "source": [
        "# ваш код здесь\n",
        "sns.barplot(x='Pclass', y='Survived', data=Data, palette='summer')\n",
        "plt.title('Pclass - Survived')\n",
        "plt.show()"
      ]
    },
    {
      "cell_type": "markdown",
      "metadata": {
        "id": "17K_cGVoXcDd"
      },
      "source": [
        "**Вопрос:** пассажиры из какого класса выживали чаще всего?"
      ]
    },
    {
      "cell_type": "markdown",
      "metadata": {
        "id": "Z0RnOVMlO6jW"
      },
      "source": [
        "Посмотрим, как влияет пол человека и класс билета (`Pclass`) на выживаемость"
      ]
    },
    {
      "cell_type": "code",
      "execution_count": 20,
      "metadata": {
        "colab": {
          "base_uri": "https://localhost:8080/",
          "height": 295
        },
        "id": "M0ZTtDcXO6jX",
        "outputId": "b92851ec-85b5-4dbb-df7c-6a680665706f"
      },
      "outputs": [
        {
          "data": {
            "image/png": "[encoded data removed]",
            "text/plain": [
              "<Figure size 640x480 with 1 Axes>"
            ]
          },
          "metadata": {},
          "output_type": "display_data"
        }
      ],
      "source": [
        "sns.barplot(x='Sex', y='Survived', hue='Pclass', data=Data, palette='autumn')\n",
        "plt.title('Sex - Survived')\n",
        "plt.show();"
      ]
    },
    {
      "cell_type": "markdown",
      "metadata": {
        "id": "q2X24lD8O6jh"
      },
      "source": [
        "### Столбец Embarked"
      ]
    },
    {
      "cell_type": "markdown",
      "metadata": {
        "id": "3MF_zEtSgVKV"
      },
      "source": [
        "**Вопрос** сколько различных значений принимает признак `Embarked`?"
      ]
    },
    {
      "cell_type": "code",
      "execution_count": 23,
      "metadata": {
        "id": "RGqP7sEqWHBk"
      },
      "outputs": [
        {
          "data": {
            "text/plain": [
              "Embarked\n",
              "S    641\n",
              "C    168\n",
              "Q     75\n",
              "Name: count, dtype: int64"
            ]
          },
          "execution_count": 23,
          "metadata": {},
          "output_type": "execute_result"
        }
      ],
      "source": [
        "# ваш код здесь\n",
        "Data['Embarked'].value_counts()"
      ]
    },
    {
      "cell_type": "markdown",
      "metadata": {
        "id": "OqR4bjy3WX4U"
      },
      "source": [
        "Пока что мы не обсуждали, как переводить в числа категориальные признаки с больше, чем двумя категориями.  \n",
        "Поэтому давайте отбросим этот признак.\n",
        "\n",
        "Сделайте это (вам пригодится метод [`drop`](https://pandas.pydata.org/pandas-docs/stable/reference/api/pandas.DataFrame.drop.html))."
      ]
    },
    {
      "cell_type": "code",
      "execution_count": 25,
      "metadata": {
        "id": "4HjvIMRCO6ji"
      },
      "outputs": [],
      "source": [
        "# ваш код здесь\n",
        "Data = Data.drop('Embarked', axis=1)"
      ]
    },
    {
      "cell_type": "markdown",
      "metadata": {
        "id": "i6UOuUsBO6jj"
      },
      "source": [
        "### Столбец Age"
      ]
    },
    {
      "cell_type": "markdown",
      "metadata": {
        "id": "tJbctJlmgOtz"
      },
      "source": [
        "Обработаем признак `Age`.\n",
        "\n",
        "Мы помним, что в этом признаке много пропусков."
      ]
    },
    {
      "cell_type": "markdown",
      "metadata": {
        "id": "7__ctYReO6jk"
      },
      "source": [
        "Заполним пропуски медианным значением `Age`."
      ]
    },
    {
      "cell_type": "code",
      "execution_count": 26,
      "metadata": {
        "id": "AI6tHQCsO6jl"
      },
      "outputs": [],
      "source": [
        "median_age = Data['Age'].median()\n",
        "\n",
        "Data['Age'].fillna(median_age, inplace=True)"
      ]
    },
    {
      "cell_type": "markdown",
      "metadata": {
        "id": "LG3Yp6pLO6jm"
      },
      "source": [
        "Нарисуем распределение возраста пассажиров."
      ]
    },
    {
      "cell_type": "code",
      "execution_count": 27,
      "metadata": {
        "id": "Gi3QKt9CO6jn"
      },
      "outputs": [
        {
          "data": {
            "image/png": "[encoded data removed]",
            "text/plain": [
              "<Figure size 500x500 with 1 Axes>"
            ]
          },
          "metadata": {},
          "output_type": "display_data"
        }
      ],
      "source": [
        "sns.displot(Data['Age'], kde=True)\n",
        "plt.show();"
      ]
    },
    {
      "cell_type": "markdown",
      "metadata": {
        "id": "YwyqXLpsO6jp"
      },
      "source": [
        "### Другие столбцы"
      ]
    },
    {
      "cell_type": "markdown",
      "metadata": {
        "id": "eBWNNXGEgIew"
      },
      "source": [
        "Удалите признак `Fare`. Он сильно связан с признаком `Pclass`, поэтому нам не нужен."
      ]
    },
    {
      "cell_type": "code",
      "execution_count": 28,
      "metadata": {
        "id": "3TSWLErvO6jp",
        "scrolled": true
      },
      "outputs": [],
      "source": [
        "# ваш код здесь\n",
        "Data = Data.drop('Fare', axis=1)"
      ]
    },
    {
      "cell_type": "markdown",
      "metadata": {
        "id": "fbob66dLXI8i"
      },
      "source": [
        "**Вопрос:** сколько на данный момент колонок в таблице `Data`?"
      ]
    },
    {
      "cell_type": "code",
      "execution_count": 29,
      "metadata": {},
      "outputs": [
        {
          "data": {
            "text/plain": [
              "(886, 10)"
            ]
          },
          "execution_count": 29,
          "metadata": {},
          "output_type": "execute_result"
        }
      ],
      "source": [
        "Data.shape"
      ]
    },
    {
      "cell_type": "markdown",
      "metadata": {
        "id": "BXsWOZuZO6jw"
      },
      "source": [
        "Столбец `PassengerId` является категориальным и не несёт важной информации, удалите его.\n",
        "\n",
        "Столбцы `Ticket`, `Name` и `Cabin` в этот раз нам также не понадобятся. Удалите и их."
      ]
    },
    {
      "cell_type": "code",
      "execution_count": 32,
      "metadata": {
        "id": "CucjtGlSO6jx"
      },
      "outputs": [],
      "source": [
        "# ваш код здесь\n",
        "Data = Data.drop(['PassengerId', 'Ticket', 'Name', 'Cabin'], axis=1)"
      ]
    },
    {
      "cell_type": "markdown",
      "metadata": {
        "id": "a3jstTjzYC_V"
      },
      "source": [
        "После минимальной обработки данных у нас получилась следующая таблица:"
      ]
    },
    {
      "cell_type": "code",
      "execution_count": 33,
      "metadata": {
        "colab": {
          "base_uri": "https://localhost:8080/",
          "height": 206
        },
        "id": "oapq8_ztO6jx",
        "outputId": "580ff570-357a-40a6-aaad-6b9f9b86b967"
      },
      "outputs": [
        {
          "data": {
            "text/html": [
              "<div>\n",
              "<style scoped>\n",
              "    .dataframe tbody tr th:only-of-type {\n",
              "        vertical-align: middle;\n",
              "    }\n",
              "\n",
              "    .dataframe tbody tr th {\n",
              "        vertical-align: top;\n",
              "    }\n",
              "\n",
              "    .dataframe thead th {\n",
              "        text-align: right;\n",
              "    }\n",
              "</style>\n",
              "<table border=\"1\" class=\"dataframe\">\n",
              "  <thead>\n",
              "    <tr style=\"text-align: right;\">\n",
              "      <th></th>\n",
              "      <th>Survived</th>\n",
              "      <th>Pclass</th>\n",
              "      <th>Sex</th>\n",
              "      <th>Age</th>\n",
              "      <th>SibSp</th>\n",
              "      <th>Parch</th>\n",
              "    </tr>\n",
              "  </thead>\n",
              "  <tbody>\n",
              "    <tr>\n",
              "      <th>0</th>\n",
              "      <td>0</td>\n",
              "      <td>3</td>\n",
              "      <td>1</td>\n",
              "      <td>22.0</td>\n",
              "      <td>1</td>\n",
              "      <td>0</td>\n",
              "    </tr>\n",
              "    <tr>\n",
              "      <th>1</th>\n",
              "      <td>1</td>\n",
              "      <td>1</td>\n",
              "      <td>0</td>\n",
              "      <td>38.0</td>\n",
              "      <td>1</td>\n",
              "      <td>0</td>\n",
              "    </tr>\n",
              "    <tr>\n",
              "      <th>2</th>\n",
              "      <td>1</td>\n",
              "      <td>3</td>\n",
              "      <td>0</td>\n",
              "      <td>26.0</td>\n",
              "      <td>0</td>\n",
              "      <td>0</td>\n",
              "    </tr>\n",
              "    <tr>\n",
              "      <th>3</th>\n",
              "      <td>1</td>\n",
              "      <td>1</td>\n",
              "      <td>0</td>\n",
              "      <td>35.0</td>\n",
              "      <td>1</td>\n",
              "      <td>0</td>\n",
              "    </tr>\n",
              "    <tr>\n",
              "      <th>4</th>\n",
              "      <td>0</td>\n",
              "      <td>3</td>\n",
              "      <td>1</td>\n",
              "      <td>35.0</td>\n",
              "      <td>0</td>\n",
              "      <td>0</td>\n",
              "    </tr>\n",
              "  </tbody>\n",
              "</table>\n",
              "</div>"
            ],
            "text/plain": [
              "   Survived  Pclass  Sex   Age  SibSp  Parch\n",
              "0         0       3    1  22.0      1      0\n",
              "1         1       1    0  38.0      1      0\n",
              "2         1       3    0  26.0      0      0\n",
              "3         1       1    0  35.0      1      0\n",
              "4         0       3    1  35.0      0      0"
            ]
          },
          "execution_count": 33,
          "metadata": {},
          "output_type": "execute_result"
        }
      ],
      "source": [
        "Data.head()"
      ]
    },
    {
      "cell_type": "markdown",
      "metadata": {
        "id": "oioGP8LGO6jy"
      },
      "source": [
        "## Исследование признаков"
      ]
    },
    {
      "cell_type": "markdown",
      "metadata": {
        "id": "8FzZ4MpaO6jy"
      },
      "source": [
        "Нарисуйте матрицу корреляций столбцов между собой."
      ]
    },
    {
      "cell_type": "code",
      "execution_count": 34,
      "metadata": {
        "id": "lqgLaN5iO6j0"
      },
      "outputs": [
        {
          "data": {
            "image/png": "[encoded data removed]",
            "text/plain": [
              "<Figure size 800x600 with 2 Axes>"
            ]
          },
          "metadata": {},
          "output_type": "display_data"
        }
      ],
      "source": [
        "# ваш код здесь\n",
        "correlation_matrix = Data.corr()\n",
        "\n",
        "# Рисуем тепловую карту (heatmap) матрицы корреляции\n",
        "plt.figure(figsize=(8, 6))\n",
        "sns.heatmap(correlation_matrix, annot=True, cmap='coolwarm', fmt=\".2f\", linewidths=.5)\n",
        "plt.title('Матрица корреляции признаков')\n",
        "plt.show()"
      ]
    },
    {
      "cell_type": "markdown",
      "metadata": {
        "id": "Zq1QivChYysn"
      },
      "source": [
        "**Вопрос:** какой столбец сильнее всего коррелирует с целевой переменной `Survived`?"
      ]
    },
    {
      "cell_type": "markdown",
      "metadata": {
        "id": "WZGvUa2KO6j0"
      },
      "source": [
        "Посмотрим на попарные зависимости некоторых признаков."
      ]
    },
    {
      "cell_type": "code",
      "execution_count": null,
      "metadata": {
        "id": "NsQpoZKkO6j1"
      },
      "outputs": [],
      "source": [
        "g = sns.pairplot(\n",
        "    Data,\n",
        "    hue='Survived',\n",
        "    palette = 'seismic',\n",
        "    height=4,\n",
        "    diag_kind = 'kde',\n",
        "    diag_kws=dict(fill=True),\n",
        "    plot_kws=dict(s=50)\n",
        "    )\n",
        "\n",
        "g.set(xticklabels=[]);"
      ]
    },
    {
      "cell_type": "markdown",
      "metadata": {
        "id": "yhsy6aIVO6j6"
      },
      "source": [
        "## Бонус (не проверяется)"
      ]
    },
    {
      "cell_type": "markdown",
      "metadata": {
        "id": "4yVc_71rgEcF"
      },
      "source": [
        "Мы не используем всю информацию о данных, в частности, не используем текстовые данные. Также из матрицы корреляций мы видим, что признаки `Parch` и `SibSp` слабо коррелируют с выживаемостью (`Survived`). Можно сконструировать новые признаки, чтобы решить эти вопросы.\n",
        "\n",
        "Попробуйте сделать следующее.\n",
        "\n",
        "1) Создайте признак `NameLen` и запишите в него длину имени (`Name`).\n",
        "\n",
        "2) Создайте признак `FamilySize`, равный *Parch + SibSp + 1*. Зачем добавлять 1?\n",
        "\n",
        "3) Создайте признак `IsAlone`, который показывает, путешествовал человек один или с семьей."
      ]
    },
    {
      "cell_type": "code",
      "execution_count": null,
      "metadata": {
        "id": "degMwmWlO6j7"
      },
      "outputs": [],
      "source": [
        "# ваш код здесь"
      ]
    },
    {
      "cell_type": "markdown",
      "metadata": {
        "id": "3MynT1M3O6j7"
      },
      "source": [
        "Посмотрите, как коррелируют новые признаки со столбцом `Survived`."
      ]
    },
    {
      "cell_type": "code",
      "execution_count": null,
      "metadata": {
        "id": "l4tssRGvO6j8"
      },
      "outputs": [],
      "source": [
        "# ваш код здесь"
      ]
    },
    {
      "cell_type": "markdown",
      "metadata": {
        "id": "ThTo8xA2O6j8"
      },
      "source": [
        "Можно извлечь и другую полезную информацию из данных путём конструирования новых признаков.\n",
        "\n",
        "Придумайте ещё новые осмысленные признаки. Проверьте, как они коррелируют с выживаемостью."
      ]
    },
    {
      "cell_type": "code",
      "execution_count": null,
      "metadata": {
        "id": "_NurzlouO6j9"
      },
      "outputs": [],
      "source": [
        "# ваш код здесь"
      ]
    },
    {
      "cell_type": "markdown",
      "metadata": {
        "id": "GyCYn6OxO6kA"
      },
      "source": [
        "Мы провели  однофакторный анализ данных и увидели, какие признаки сильно влияют на выживаемость, а какие нет.\n",
        "\n",
        "Мы видим, что больше всего на выживаемость влияет пол пассажира.\n"
      ]
    },
    {
      "cell_type": "markdown",
      "metadata": {
        "id": "ocNHZPhHf_uV"
      },
      "source": [
        "### Наша собственная модель"
      ]
    },
    {
      "cell_type": "markdown",
      "metadata": {
        "id": "ny6X6QFigBQE"
      },
      "source": [
        "Напишем свою модель, предсказывающую выживаемость только по признаку `Sex`."
      ]
    },
    {
      "cell_type": "code",
      "execution_count": null,
      "metadata": {
        "id": "zHzuGg8IO6kB"
      },
      "outputs": [],
      "source": [
        "def prediction(x):\n",
        "    if x.Sex == 1:\n",
        "        return 0\n",
        "    return 1"
      ]
    },
    {
      "cell_type": "markdown",
      "metadata": {
        "id": "6aigbxCtaK9W"
      },
      "source": [
        "Посчитаем долю правильных ответов нашей модели."
      ]
    },
    {
      "cell_type": "code",
      "execution_count": null,
      "metadata": {
        "id": "Ffxd86aAO6kB"
      },
      "outputs": [],
      "source": [
        "from sklearn.metrics import accuracy_score\n",
        "\n",
        "pred = Data.apply(lambda x: prediction(x), axis=1)\n",
        "\n",
        "accuracy_score(Data['Survived'], pred)"
      ]
    }
  ],
  "metadata": {
    "colab": {
      "provenance": []
    },
    "kernelspec": {
      "display_name": "Python 3",
      "language": "python",
      "name": "python3"
    },
    "language_info": {
      "codemirror_mode": {
        "name": "ipython",
        "version": 3
      },
      "file_extension": ".py",
      "mimetype": "text/x-python",
      "name": "python",
      "nbconvert_exporter": "python",
      "pygments_lexer": "ipython3",
      "version": "3.11.2"
    }
  },
  "nbformat": 4,
  "nbformat_minor": 0
}
